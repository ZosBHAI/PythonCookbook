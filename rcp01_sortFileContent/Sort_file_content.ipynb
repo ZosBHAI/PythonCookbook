{
 "cells": [
  {
   "cell_type": "code",
   "execution_count": 1,
   "id": "e5ead0aa",
   "metadata": {},
   "outputs": [],
   "source": [
    "#Intialisation\n",
    "file_name = 'data/song.txt'\n",
    "content = []"
   ]
  },
  {
   "cell_type": "code",
   "execution_count": 2,
   "id": "07a6d4cc",
   "metadata": {},
   "outputs": [
    {
     "name": "stdout",
     "output_type": "stream",
     "text": [
      "['Pink Moon/Nick Drake/5/140\\n', 'Somersault/Zero 7/4/130\\n', 'Shiva Moon/Prem/3/120\\n', 'Joshua Circles/BT/3/110\\n', 'Deep Channel/Afro/3/120\\n', 'Celts Passenger/Headmix/4/130\\n', 'Listen/Tahiti 80/5/140\\n']\n"
     ]
    }
   ],
   "source": [
    "#Step 1 : Reading whole content into LIST\n",
    "with open(file_name) as reader:\n",
    "    content = reader.readlines()\n",
    "print(content)"
   ]
  },
  {
   "cell_type": "code",
   "execution_count": 3,
   "id": "39fd5aa6",
   "metadata": {},
   "outputs": [
    {
     "name": "stdout",
     "output_type": "stream",
     "text": [
      "[('pink moon', 'nick drake', '5', '140\\n'), ('somersault', 'zero 7', '4', '130\\n'), ('shiva moon', 'prem', '3', '120\\n'), ('joshua circles', 'bt', '3', '110\\n'), ('deep channel', 'afro', '3', '120\\n'), ('celts passenger', 'headmix', '4', '130\\n'), ('listen', 'tahiti 80', '5', '140\\n')]\n"
     ]
    }
   ],
   "source": [
    "# Step 2 : Parse the content of the list and Output is LIST(TUples)\n",
    "output = []\n",
    "for _record in content:\n",
    "    (title,artist,rating,bpm) = _record.split(\"/\")\n",
    "    output.append((title.lower(),artist.lower(),rating,bpm))\n",
    "print(output)"
   ]
  },
  {
   "cell_type": "code",
   "execution_count": 4,
   "id": "71882827",
   "metadata": {},
   "outputs": [
    {
     "name": "stdout",
     "output_type": "stream",
     "text": [
      "[('pink moon', 'nick drake', '5', '140\\n'), ('listen', 'tahiti 80', '5', '140\\n'), ('somersault', 'zero 7', '4', '130\\n'), ('celts passenger', 'headmix', '4', '130\\n'), ('shiva moon', 'prem', '3', '120\\n'), ('joshua circles', 'bt', '3', '110\\n'), ('deep channel', 'afro', '3', '120\\n')]\n",
      "[('pink moon', 'nick drake', '5', '140\\n'), ('listen', 'tahiti 80', '5', '140\\n'), ('somersault', 'zero 7', '4', '130\\n'), ('celts passenger', 'headmix', '4', '130\\n'), ('shiva moon', 'prem', '3', '120\\n'), ('deep channel', 'afro', '3', '120\\n'), ('joshua circles', 'bt', '3', '110\\n')]\n",
      "[('pink moon', 'nick drake', '5', '140\\n'), ('listen', 'tahiti 80', '5', '140\\n'), ('somersault', 'zero 7', '4', '130\\n'), ('celts passenger', 'headmix', '4', '130\\n'), ('shiva moon', 'prem', '3', '120\\n'), ('deep channel', 'afro', '3', '120\\n'), ('joshua circles', 'bt', '3', '110\\n')]\n"
     ]
    }
   ],
   "source": [
    "#Step 3 and 4 :Sorting and  accessing the field using the INDEX\n",
    "#Sorting  - 1 rating \n",
    "print(sorted(output,key=lambda e:e[2],reverse=True))\n",
    "#Sorting  - 2 paramter  rating, bpm \n",
    "print(sorted(output,key=lambda e:(e[3],e[2]),reverse=True))\n",
    "#Sorting -2 using itemgetter\n",
    "from operator import itemgetter\n",
    "print(sorted(output,key=itemgetter(3,2),reverse=True))\n"
   ]
  },
  {
   "cell_type": "code",
   "execution_count": 5,
   "id": "29ac02e2",
   "metadata": {},
   "outputs": [],
   "source": [
    "#Using class to represent the song \n",
    "class Song:\n",
    "    def __init__(self,title,artist,rating,bpm):\n",
    "        self.title = title\n",
    "        self.artist = artist \n",
    "        self.rating = rating \n",
    "        self.bpm = bpm \n",
    "    def __repr__(self):\n",
    "        return repr(f'Song{self.title, self.artist, self.rating,self.bpm}')\n",
    "        \n"
   ]
  },
  {
   "cell_type": "code",
   "execution_count": 6,
   "id": "90fc1003",
   "metadata": {},
   "outputs": [
    {
     "name": "stdout",
     "output_type": "stream",
     "text": [
      "[\"Song('Pink Moon', 'Nick Drake', '5', '140\\\\n')\", \"Song('Listen', 'Tahiti 80', '5', '140\\\\n')\", \"Song('Somersault', 'Zero 7', '4', '130\\\\n')\", \"Song('Celts Passenger', 'Headmix', '4', '130\\\\n')\", \"Song('Shiva Moon', 'Prem', '3', '120\\\\n')\", \"Song('Deep Channel', 'Afro', '3', '120\\\\n')\", \"Song('Joshua Circles', 'BT', '3', '110\\\\n')\"]\n"
     ]
    }
   ],
   "source": [
    "output = [Song(*_record.split(\"/\")) for _record in content]\n",
    "    \n",
    "from operator import attrgetter\n",
    "print(sorted(output,key=attrgetter('bpm','rating'),reverse=True)) "
   ]
  },
  {
   "cell_type": "code",
   "execution_count": 7,
   "id": "d8c022a4",
   "metadata": {},
   "outputs": [
    {
     "name": "stdout",
     "output_type": "stream",
     "text": [
      "Model class is <class '__main__.Song'>\n",
      "[\"Song('Pink Moon', 'Nick Drake', '5', '140\\\\n')\", \"Song('Listen', 'Tahiti 80', '5', '140\\\\n')\", \"Song('Somersault', 'Zero 7', '4', '130\\\\n')\", \"Song('Celts Passenger', 'Headmix', '4', '130\\\\n')\", \"Song('Shiva Moon', 'Prem', '3', '120\\\\n')\", \"Song('Deep Channel', 'Afro', '3', '120\\\\n')\", \"Song('Joshua Circles', 'BT', '3', '110\\\\n')\"]\n"
     ]
    }
   ],
   "source": [
    "fields = ['bpm','rating']\n",
    "from operator import attrgetter\n",
    "def read_and_sort_file(file_name,model,fields):\n",
    "    with open(file_name) as reader:\n",
    "        content = reader.readlines()\n",
    "        print(f\"Model class is {repr(model)}\")\n",
    "        output = [model(*_record.split(\"/\")) for _record in content]\n",
    "    return sorted(output,key=attrgetter(*fields),reverse=True)\n",
    "\n",
    "print(read_and_sort_file(file_name,Song,fields))    \n"
   ]
  },
  {
   "cell_type": "code",
   "execution_count": 8,
   "id": "46450ea9",
   "metadata": {},
   "outputs": [
    {
     "name": "stdout",
     "output_type": "stream",
     "text": [
      "Model class is <class '__main__.song'>\n",
      "[song(title='Pink Moon', artist='Nick Drake', rating='5', bpm='140\\n'), song(title='Listen', artist='Tahiti 80', rating='5', bpm='140\\n'), song(title='Somersault', artist='Zero 7', rating='4', bpm='130\\n'), song(title='Celts Passenger', artist='Headmix', rating='4', bpm='130\\n'), song(title='Shiva Moon', artist='Prem', rating='3', bpm='120\\n'), song(title='Deep Channel', artist='Afro', rating='3', bpm='120\\n'), song(title='Joshua Circles', artist='BT', rating='3', bpm='110\\n')]\n"
     ]
    }
   ],
   "source": [
    "#Using Named Tuple\n",
    "from collections import namedtuple\n",
    "Song_NamedTuple = namedtuple(\"song\", \"title,artist,rating,bpm\")\n",
    "print(read_and_sort_file(file_name,Song_NamedTuple,fields))  \n"
   ]
  },
  {
   "cell_type": "code",
   "execution_count": 10,
   "id": "dc6004b6",
   "metadata": {},
   "outputs": [
    {
     "name": "stdout",
     "output_type": "stream",
     "text": [
      "Model class is <class '__main__.Song_WithTyping'>\n",
      "[Song_WithTyping(title='Pink Moon', artist='Nick Drake', rating='5', bpm='140\\n'), Song_WithTyping(title='Listen', artist='Tahiti 80', rating='5', bpm='140\\n'), Song_WithTyping(title='Somersault', artist='Zero 7', rating='4', bpm='130\\n'), Song_WithTyping(title='Celts Passenger', artist='Headmix', rating='4', bpm='130\\n'), Song_WithTyping(title='Shiva Moon', artist='Prem', rating='3', bpm='120\\n'), Song_WithTyping(title='Deep Channel', artist='Afro', rating='3', bpm='120\\n'), Song_WithTyping(title='Joshua Circles', artist='BT', rating='3', bpm='110\\n')]\n"
     ]
    }
   ],
   "source": [
    "from typing import NamedTuple\n",
    "class Song_WithTyping(NamedTuple):\n",
    "  title: str\n",
    "  artist: str\n",
    "  rating: str\n",
    "  bpm: str\n",
    "print(read_and_sort_file(file_name,Song_WithTyping,fields))  "
   ]
  },
  {
   "cell_type": "code",
   "execution_count": 12,
   "id": "a1bd1c21",
   "metadata": {},
   "outputs": [
    {
     "name": "stdout",
     "output_type": "stream",
     "text": [
      "Model class is <class '__main__.Song_Dataclass'>\n",
      "[Song_Dataclass(title='Pink Moon', artist='Nick Drake', rating='5', bpm='140\\n'), Song_Dataclass(title='Listen', artist='Tahiti 80', rating='5', bpm='140\\n'), Song_Dataclass(title='Somersault', artist='Zero 7', rating='4', bpm='130\\n'), Song_Dataclass(title='Celts Passenger', artist='Headmix', rating='4', bpm='130\\n'), Song_Dataclass(title='Shiva Moon', artist='Prem', rating='3', bpm='120\\n'), Song_Dataclass(title='Deep Channel', artist='Afro', rating='3', bpm='120\\n'), Song_Dataclass(title='Joshua Circles', artist='BT', rating='3', bpm='110\\n')]\n"
     ]
    }
   ],
   "source": [
    "from dataclasses import dataclass\n",
    "@dataclass\n",
    "class Song_Dataclass:\n",
    "    title: str\n",
    "    artist: str\n",
    "    rating: str\n",
    "    bpm:str\n",
    "print(read_and_sort_file(file_name,Song_Dataclass,fields))   "
   ]
  },
  {
   "cell_type": "code",
   "execution_count": null,
   "id": "fcc8bae7",
   "metadata": {},
   "outputs": [],
   "source": []
  }
 ],
 "metadata": {
  "kernelspec": {
   "display_name": "Python 3 (ipykernel)",
   "language": "python",
   "name": "python3"
  },
  "language_info": {
   "codemirror_mode": {
    "name": "ipython",
    "version": 3
   },
   "file_extension": ".py",
   "mimetype": "text/x-python",
   "name": "python",
   "nbconvert_exporter": "python",
   "pygments_lexer": "ipython3",
   "version": "3.9.7"
  }
 },
 "nbformat": 4,
 "nbformat_minor": 5
}
